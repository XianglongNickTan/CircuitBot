{
 "cells": [
  {
   "cell_type": "code",
   "execution_count": 97,
   "metadata": {},
   "outputs": [
    {
     "data": {
      "text/plain": [
       "1"
      ]
     },
     "execution_count": 97,
     "metadata": {},
     "output_type": "execute_result"
    }
   ],
   "source": [
    "import random\n",
    "import numpy as np\n",
    "\n",
    "\n",
    "\n",
    "a = np.random.randint(low=0, high=4, size=2)\n",
    "a[0]"
   ]
  },
  {
   "cell_type": "code",
   "execution_count": 3,
   "metadata": {},
   "outputs": [
    {
     "ename": "ValueError",
     "evalue": "math domain error",
     "output_type": "error",
     "traceback": [
      "\u001b[0;31m-------------------------------------------------------------\u001b[0m",
      "\u001b[0;31mValueError\u001b[0m                  Traceback (most recent call last)",
      "\u001b[0;32m<ipython-input-3-a401d9e22442>\u001b[0m in \u001b[0;36m<module>\u001b[0;34m\u001b[0m\n\u001b[1;32m      6\u001b[0m gamma_list = [math.sqrt(C * math.log(C / batch_size) /\n\u001b[1;32m      7\u001b[0m                         ((math.e - 1) * bestUpperBoundEstimate * batch_size))\n\u001b[0;32m----> 8\u001b[0;31m               for C in categories]\n\u001b[0m\u001b[1;32m      9\u001b[0m \u001b[0;31m# np.isnan(gamma_list)\u001b[0m\u001b[0;34m\u001b[0m\u001b[0;34m\u001b[0m\u001b[0;34m\u001b[0m\u001b[0m\n\u001b[1;32m     10\u001b[0m \u001b[0mgamma_list\u001b[0m\u001b[0;34m\u001b[0m\u001b[0;34m\u001b[0m\u001b[0m\n",
      "\u001b[0;32m<ipython-input-3-a401d9e22442>\u001b[0m in \u001b[0;36m<listcomp>\u001b[0;34m(.0)\u001b[0m\n\u001b[1;32m      6\u001b[0m gamma_list = [math.sqrt(C * math.log(C / batch_size) /\n\u001b[1;32m      7\u001b[0m                         ((math.e - 1) * bestUpperBoundEstimate * batch_size))\n\u001b[0;32m----> 8\u001b[0;31m               for C in categories]\n\u001b[0m\u001b[1;32m      9\u001b[0m \u001b[0;31m# np.isnan(gamma_list)\u001b[0m\u001b[0;34m\u001b[0m\u001b[0;34m\u001b[0m\u001b[0;34m\u001b[0m\u001b[0m\n\u001b[1;32m     10\u001b[0m \u001b[0mgamma_list\u001b[0m\u001b[0;34m\u001b[0m\u001b[0;34m\u001b[0m\u001b[0m\n",
      "\u001b[0;31mValueError\u001b[0m: math domain error"
     ]
    }
   ],
   "source": [
    "import math\n",
    "categories = [2, 2, 2, 2, 2]\n",
    "batch_size = 3\n",
    "budget = 50\n",
    "bestUpperBoundEstimate = 2 * budget / 3\n",
    "gamma_list = [math.sqrt(C * math.log(C / batch_size) /\n",
    "                        ((math.e - 1) * bestUpperBoundEstimate * batch_size))\n",
    "              for C in categories]\n",
    "# np.isnan(gamma_list)\n",
    "gamma_list\n",
    "# categories[1]"
   ]
  },
  {
   "cell_type": "code",
   "execution_count": 145,
   "metadata": {},
   "outputs": [
    {
     "data": {
      "text/plain": [
       "20.17241379310345"
      ]
     },
     "execution_count": 145,
     "metadata": {},
     "output_type": "execute_result"
    }
   ],
   "source": [
    "r_cons = 65\n",
    "r = 80\n",
    "vol = 45\n",
    "\n",
    "v = r_cons/(r_cons + r) * vol\n",
    "v"
   ]
  },
  {
   "cell_type": "code",
   "execution_count": 151,
   "metadata": {},
   "outputs": [
    {
     "data": {
      "text/plain": [
       "0.9860141986807289"
      ]
     },
     "execution_count": 151,
     "metadata": {},
     "output_type": "execute_result"
    }
   ],
   "source": [
    "import pickle\n",
    "file = open('../optimisation/data/init_data_voltage', 'rb')\n",
    "data = pickle.load(file)\n",
    "# print()\n",
    "\n",
    "file.close()\n",
    "# print(data)\n",
    "np.std(data['y_init'])"
   ]
  },
  {
   "cell_type": "code",
   "execution_count": 152,
   "metadata": {},
   "outputs": [
    {
     "data": {
      "text/plain": [
       "5.85"
      ]
     },
     "execution_count": 152,
     "metadata": {},
     "output_type": "execute_result"
    }
   ],
   "source": [
    "np.std([3.3, 15, 15, 15, 15, 15, 15,3.3,3.3,3.3,3.3,3.3])"
   ]
  },
  {
   "cell_type": "code",
   "execution_count": 281,
   "metadata": {},
   "outputs": [
    {
     "data": {
      "text/plain": [
       "12.121933882536947"
      ]
     },
     "execution_count": 281,
     "metadata": {},
     "output_type": "execute_result"
    }
   ],
   "source": [
    "import random\n",
    "h = np.hstack([np.random.randint(0, C, 10)[:, None] for C in categories])\n",
    "voltage = np.zeros(len(h))\n",
    "for i in range (len(h)):\n",
    "    \n",
    "    a = list(h[i])\n",
    "    circle = a.count(1)\n",
    "    voltage[i] = (11 + circle * 0.6) -0.5 + np.random.random()\n",
    "np.std(voltage)\n",
    "np.mean(voltage)\n",
    "# random.random()"
   ]
  },
  {
   "cell_type": "code",
   "execution_count": 284,
   "metadata": {},
   "outputs": [
    {
     "data": {
      "text/plain": [
       "1e-10"
      ]
     },
     "execution_count": 284,
     "metadata": {},
     "output_type": "execute_result"
    }
   ],
   "source": [
    "a = 1e-10\n",
    "a"
   ]
  }
 ],
 "metadata": {
  "kernelspec": {
   "display_name": "Python [conda env:BO] *",
   "language": "python",
   "name": "conda-env-BO-py"
  },
  "language_info": {
   "codemirror_mode": {
    "name": "ipython",
    "version": 3
   },
   "file_extension": ".py",
   "mimetype": "text/x-python",
   "name": "python",
   "nbconvert_exporter": "python",
   "pygments_lexer": "ipython3",
   "version": "3.7.7"
  }
 },
 "nbformat": 4,
 "nbformat_minor": 4
}
