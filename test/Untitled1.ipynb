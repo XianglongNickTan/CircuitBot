{
 "cells": [
  {
   "cell_type": "code",
   "execution_count": 13,
   "metadata": {},
   "outputs": [
    {
     "data": {
      "text/plain": [
       "0"
      ]
     },
     "execution_count": 13,
     "metadata": {},
     "output_type": "execute_result"
    }
   ],
   "source": [
    "import random\n",
    "import numpy as np\n",
    "\n",
    "\n",
    "\n",
    "a = np.random.randint(low=0, high=4, size=2)\n",
    "a[0]"
   ]
  },
  {
   "cell_type": "code",
   "execution_count": 23,
   "metadata": {},
   "outputs": [
    {
     "data": {
      "text/plain": [
       "[0.1555754826798944,\n",
       " 0.1555754826798944,\n",
       " 0.1555754826798944,\n",
       " 0.1555754826798944,\n",
       " 0.1555754826798944]"
      ]
     },
     "execution_count": 23,
     "metadata": {},
     "output_type": "execute_result"
    }
   ],
   "source": [
    "import math\n",
    "categories = [2, 2, 2, 2, 2]\n",
    "batch_size = 1\n",
    "budget = 50\n",
    "bestUpperBoundEstimate = 2 * budget / 3\n",
    "gamma_list = [math.sqrt(C * math.log(C / batch_size) /\n",
    "                        ((math.e - 1) * bestUpperBoundEstimate * batch_size))\n",
    "              for C in categories]\n",
    "# np.isnan(gamma_list)\n",
    "# gamma_list\n",
    "\n",
    "gamma = gamma_list[0]\n",
    "p = 0.7333740550542971\n",
    "# 0.9108275899694367\n",
    "# 0.8252652349724254\n",
    "# 0.7333740550542971\n",
    "\n",
    "k = (p - gamma / 2) / (1 - gamma)\n",
    "\n",
    "wc = k / (1 - k) \n",
    "\n",
    "wc\n",
    "gamma_list\n",
    "# categories[1]"
   ]
  },
  {
   "cell_type": "code",
   "execution_count": 18,
   "metadata": {},
   "outputs": [
    {
     "data": {
      "text/plain": [
       "[array([1., 1.]),\n",
       " array([1., 1.]),\n",
       " array([1., 1.]),\n",
       " array([1., 1.]),\n",
       " array([1., 1.])]"
      ]
     },
     "execution_count": 18,
     "metadata": {},
     "output_type": "execute_result"
    }
   ],
   "source": [
    "categories = [2, 2, 2, 2, 2]\n",
    "\n",
    "[np.ones(C) for C in categories]\n",
    "\n",
    "# np.array([1, 1])"
   ]
  },
  {
   "cell_type": "code",
   "execution_count": 151,
   "metadata": {},
   "outputs": [
    {
     "data": {
      "text/plain": [
       "0.9860141986807289"
      ]
     },
     "execution_count": 151,
     "metadata": {},
     "output_type": "execute_result"
    }
   ],
   "source": [
    "import pickle\n",
    "file = open('../optimisation/data/init_data_voltage', 'rb')\n",
    "data = pickle.load(file)\n",
    "# print()\n",
    "\n",
    "file.close()\n",
    "# print(data)\n",
    "np.std(data['y_init'])"
   ]
  },
  {
   "cell_type": "code",
   "execution_count": 152,
   "metadata": {},
   "outputs": [
    {
     "data": {
      "text/plain": [
       "5.85"
      ]
     },
     "execution_count": 152,
     "metadata": {},
     "output_type": "execute_result"
    }
   ],
   "source": [
    "np.std([3.3, 15, 15, 15, 15, 15, 15,3.3,3.3,3.3,3.3,3.3])"
   ]
  },
  {
   "cell_type": "code",
   "execution_count": 281,
   "metadata": {},
   "outputs": [
    {
     "data": {
      "text/plain": [
       "12.121933882536947"
      ]
     },
     "execution_count": 281,
     "metadata": {},
     "output_type": "execute_result"
    }
   ],
   "source": [
    "import random\n",
    "h = np.hstack([np.random.randint(0, C, 10)[:, None] for C in categories])\n",
    "voltage = np.zeros(len(h))\n",
    "for i in range (len(h)):\n",
    "    \n",
    "    a = list(h[i])\n",
    "    circle = a.count(1)\n",
    "    voltage[i] = (11 + circle * 0.6) -0.5 + np.random.random()\n",
    "np.std(voltage)\n",
    "np.mean(voltage)\n",
    "# random.random()"
   ]
  },
  {
   "cell_type": "code",
   "execution_count": 284,
   "metadata": {},
   "outputs": [
    {
     "data": {
      "text/plain": [
       "1e-10"
      ]
     },
     "execution_count": 284,
     "metadata": {},
     "output_type": "execute_result"
    }
   ],
   "source": [
    "a = 1e-10\n",
    "a"
   ]
  }
 ],
 "metadata": {
  "kernelspec": {
   "display_name": "Python [conda env:BO] *",
   "language": "python",
   "name": "conda-env-BO-py"
  },
  "language_info": {
   "codemirror_mode": {
    "name": "ipython",
    "version": 3
   },
   "file_extension": ".py",
   "mimetype": "text/x-python",
   "name": "python",
   "nbconvert_exporter": "python",
   "pygments_lexer": "ipython3",
   "version": "3.7.7"
  }
 },
 "nbformat": 4,
 "nbformat_minor": 4
}
