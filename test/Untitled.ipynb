{
 "cells": [
  {
   "cell_type": "code",
   "execution_count": 475,
   "metadata": {},
   "outputs": [
    {
     "name": "stdout",
     "output_type": "stream",
     "text": [
      "    iter               ht                                                 xt  \\\n",
      "0      0  [0, 1, 0, 0, 0]  [4.727360901486138, 1.4089322746983886, -4.999...   \n",
      "1      1  [0, 1, 0, 0, 0]  [6.62875612244169, 0.7986225159683804, -6.5904...   \n",
      "2      2  [0, 1, 0, 0, 0]  [6.8459400511934625, -0.5566272360569859, -6.6...   \n",
      "3      3  [1, 1, 0, 0, 0]  [7.232792234960553, -1.1307215083950668, -4.26...   \n",
      "4      4  [1, 1, 0, 0, 0]  [5.985152089807722, 0.6860059279842476, -6.279...   \n",
      "5      5  [1, 0, 1, 0, 0]  [5.963179847062163, 0.9435466873322567, -6.479...   \n",
      "6      6  [1, 0, 1, 0, 0]  [4.765931152798372, 0.6349103134743128, -5.854...   \n",
      "7      7  [1, 0, 1, 1, 0]  [5.304913375276967, 0.47391658604536574, -6.08...   \n",
      "8      8  [1, 0, 1, 1, 0]  [5.135372829412697, 0.14049845952481588, -6.42...   \n",
      "9      9  [1, 0, 1, 0, 0]      [7.863143570826762, -1.566881776144851, -4.0]   \n",
      "10    10  [1, 0, 1, 0, 0]  [5.454123020832867, 0.5040084097351553, -5.917...   \n",
      "11    11  [1, 0, 1, 0, 0]  [6.462284502029992, -0.6987903511839311, -4.15...   \n",
      "12    12  [1, 0, 1, 1, 0]  [5.25019369140582, 0.807283669726159, -6.17983...   \n",
      "13    13  [1, 0, 1, 1, 1]  [5.199709055380494, 0.3882914541508932, -5.990...   \n",
      "14    14  [1, 0, 1, 1, 0]  [4.772822514568195, -0.8242116899792737, -5.91...   \n",
      "15    15  [1, 0, 1, 1, 0]                                  [8.0, -2.0, -8.0]   \n",
      "16    16  [1, 0, 1, 1, 0]  [4.945061863281644, -0.34324578620019464, -5.6...   \n",
      "17    17  [1, 0, 0, 1, 0]  [4.586780913328822, -0.7397113062273141, -5.22...   \n",
      "18    18  [1, 0, 1, 1, 0]  [5.2772071571899035, -0.6344829177521213, -5.8...   \n",
      "19    19  [1, 0, 0, 1, 0]      [7.327222046605049, 2.0, -4.2522899656460424]   \n",
      "\n",
      "                                                   zt  line_num  circle_num  \\\n",
      "0   [0.0, 1.0, 0.0, 0.0, 0.0, 4.727360901486138, 1...       4.0         1.0   \n",
      "1   [0.0, 1.0, 0.0, 0.0, 0.0, 6.62875612244169, 0....       4.0         1.0   \n",
      "2   [0.0, 1.0, 0.0, 0.0, 0.0, 6.8459400511934625, ...       4.0         1.0   \n",
      "3   [1.0, 1.0, 0.0, 0.0, 0.0, 7.232792234960553, -...       3.0         2.0   \n",
      "4   [1.0, 1.0, 0.0, 0.0, 0.0, 5.985152089807722, 0...       3.0         2.0   \n",
      "5   [1.0, 0.0, 1.0, 0.0, 0.0, 5.963179847062163, 0...       3.0         2.0   \n",
      "6   [1.0, 0.0, 1.0, 0.0, 0.0, 4.765931152798372, 0...       3.0         2.0   \n",
      "7   [1.0, 0.0, 1.0, 1.0, 0.0, 5.304913375276967, 0...       2.0         3.0   \n",
      "8   [1.0, 0.0, 1.0, 1.0, 0.0, 5.135372829412697, 0...       2.0         3.0   \n",
      "9   [1.0, 0.0, 1.0, 0.0, 0.0, 7.863143570826762, -...       3.0         2.0   \n",
      "10  [1.0, 0.0, 1.0, 0.0, 0.0, 5.454123020832867, 0...       3.0         2.0   \n",
      "11  [1.0, 0.0, 1.0, 0.0, 0.0, 6.462284502029992, -...       3.0         2.0   \n",
      "12  [1.0, 0.0, 1.0, 1.0, 0.0, 5.25019369140582, 0....       2.0         3.0   \n",
      "13  [1.0, 0.0, 1.0, 1.0, 1.0, 5.199709055380494, 0...       1.0         4.0   \n",
      "14  [1.0, 0.0, 1.0, 1.0, 0.0, 4.772822514568195, -...       2.0         3.0   \n",
      "15         [1.0, 0.0, 1.0, 1.0, 0.0, 8.0, -2.0, -8.0]       2.0         3.0   \n",
      "16  [1.0, 0.0, 1.0, 1.0, 0.0, 4.945061863281644, -...       2.0         3.0   \n",
      "17  [1.0, 0.0, 0.0, 1.0, 0.0, 4.586780913328822, -...       3.0         2.0   \n",
      "18  [1.0, 0.0, 1.0, 1.0, 0.0, 5.2772071571899035, ...       2.0         3.0   \n",
      "19  [1.0, 0.0, 0.0, 1.0, 0.0, 7.327222046605049, 2...       3.0         2.0   \n",
      "\n",
      "     value                                             Reward  best_value  \\\n",
      "0   110.25  [127.69000000000001, 110.25, 127.6900000000000...      127.69   \n",
      "1   127.69  [127.69000000000001, 127.69000000000001, 127.6...      127.69   \n",
      "2   114.49  [127.69000000000001, 127.69000000000001, 127.6...      127.69   \n",
      "3   134.56           [134.56, 134.56, 134.56, 134.56, 134.56]      134.56   \n",
      "4   136.89           [136.89, 136.89, 136.89, 136.89, 136.89]      136.89   \n",
      "5   134.56           [136.89, 134.56, 134.56, 136.89, 136.89]      136.89   \n",
      "6   139.24           [139.24, 139.24, 139.24, 139.24, 139.24]      139.24   \n",
      "7   156.25           [156.25, 156.25, 156.25, 156.25, 156.25]      156.25   \n",
      "8   141.61           [156.25, 156.25, 156.25, 156.25, 156.25]      156.25   \n",
      "9   132.25           [156.25, 156.25, 156.25, 139.24, 156.25]      156.25   \n",
      "10  144.00            [156.25, 156.25, 156.25, 144.0, 156.25]      156.25   \n",
      "11  127.69            [156.25, 156.25, 156.25, 144.0, 156.25]      156.25   \n",
      "12  144.00           [156.25, 156.25, 156.25, 156.25, 156.25]      156.25   \n",
      "13  169.00                [169.0, 169.0, 169.0, 169.0, 169.0]      169.00   \n",
      "14  163.84   [169.0, 169.0, 169.0, 169.0, 163.84000000000003]      169.00   \n",
      "15  146.41   [169.0, 169.0, 169.0, 169.0, 163.84000000000003]      169.00   \n",
      "16  166.41               [169.0, 169.0, 169.0, 169.0, 166.41]      169.00   \n",
      "17  136.89              [169.0, 169.0, 136.89, 169.0, 166.41]      169.00   \n",
      "18  134.56               [169.0, 169.0, 169.0, 169.0, 166.41]      169.00   \n",
      "19  134.56              [169.0, 169.0, 136.89, 169.0, 166.41]      169.00   \n",
      "\n",
      "                                            model_hp  \n",
      "0                                         [0.2, 0.1]  \n",
      "1          [0.09598821891371588, 0.3483407446483363]  \n",
      "2          [0.9565484640810662, 0.27222296923418515]  \n",
      "3       [0.00011355709284220347, 0.3540947920667048]  \n",
      "4          [0.09469069486070507, 0.3248209239050149]  \n",
      "5          [0.6340657606077824, 0.14338062764037166]  \n",
      "6       [0.0007577184247007919, 0.17029737870000244]  \n",
      "7        [0.5773105367015249, 8.555704364651193e-06]  \n",
      "8        [0.6392509487924164, 8.023343962817709e-06]  \n",
      "9       [0.5071604926267707, 1.0000000000000004e-06]  \n",
      "10      [0.5014465144705935, 1.0000000000000004e-06]  \n",
      "11         [0.5769050390459717, 0.03986948304723192]  \n",
      "12        [0.5328506710269516, 0.020053037334578517]  \n",
      "13     [0.40873811142576616, 1.0000000000000004e-06]  \n",
      "14  [0.00010000000000000009, 1.3568711150033128e-06]  \n",
      "15      [0.5592277575672162, 1.0000000000000004e-06]  \n",
      "16      [0.5312123383019379, 1.0000000000000004e-06]  \n",
      "17         [1.0679655907418955, 0.05564888742513311]  \n",
      "18      [0.5971614146840035, 1.0000000000000004e-06]  \n",
      "19      [0.2758727597646978, 1.0000000000000004e-06]  \n"
     ]
    }
   ],
   "source": [
    "import pickle\n",
    "import numpy as np\n",
    "import matplotlib.pyplot as plt\n",
    "import pandas as pd\n",
    "\n",
    "circle_5_file = open('../result/11_10_20_10fullcircle_kappa_2/CircuitBot_all', 'rb')\n",
    "circle_4_file = open('../result/12_10_20_10fourcircle_kappa_2/CircuitBot_all', 'rb')\n",
    "circle_3_file = open('../result/12_10_20_5threecircle_kappa_2/CircuitBot_all', 'rb')\n",
    "               \n",
    "file = open('../result/08_10_20_20trials_kappa_2/CoCaBO_1_best_vals_LCB_ARD_False_mix_0.5_all', 'rb')\n",
    "# file = open('../optimisation/result/CircuitBot_all', 'rb')\n",
    "\n",
    "\n",
    "# file = open('../optimisation/result/init_data_0', 'rb')\n",
    "\n",
    "data = pickle.load(file)\n",
    "circle_5 = pickle.load(circle_5_file)\n",
    "circle_4 = pickle.load(circle_4_file)\n",
    "circle_3 = pickle.load(circle_3_file)\n",
    "\n",
    "file.close()\n",
    "circle_5_file.close()\n",
    "circle_4_file.close()\n",
    "circle_3_file.close()\n",
    "\n",
    "print(data)"
   ]
  },
  {
   "cell_type": "code",
   "execution_count": 365,
   "metadata": {},
   "outputs": [],
   "source": [
    "voltage = np.sqrt(data.value)\n",
    "r = []\n",
    "for item in voltage:\n",
    "    re = (30 - item) / item * 45\n",
    "    r.append(re)\n",
    "\n",
    "data_y = np.hstack((r, circle_3.value))\n",
    "data_y = np.hstack((data_y, circle_4.value))\n",
    "data_y = np.hstack((data_y, circle_5.value))\n",
    "\n",
    "data_zt = np.hstack((data.zt, circle_3.zt))\n",
    "data_zt = np.hstack((data_zt, circle_4.zt))\n",
    "data_zt = np.hstack((data_zt, circle_5.zt))\n",
    "\n",
    "data_circle_num = np.hstack((data.circle_num, circle_3.circle_num))\n",
    "data_circle_num = np.hstack((data_circle_num, circle_4.circle_num))\n",
    "data_circle_num = np.hstack((data_circle_num, circle_5.circle_num))\n",
    "\n",
    "result_list=[]\n",
    "for i in range(45):\n",
    "    result_list.append([data_zt[i], data_circle_num[i], data_y[i]])\n",
    "df = pd.DataFrame(result_list, columns=[\"zt\", \"circle_num\", \"value\"])\n",
    "df.to_pickle(f\"test_all\")\n",
    "file = open('test_all', 'rb')\n",
    "# file = open('../optimisation/result/init_data_0', 'rb')\n",
    "\n",
    "test_data = pickle.load(file)\n",
    "# print()\n",
    "\n",
    "file.close()\n",
    "\n"
   ]
  },
  {
   "cell_type": "code",
   "execution_count": 472,
   "metadata": {},
   "outputs": [
    {
     "name": "stdout",
     "output_type": "stream",
     "text": [
      "[65.65573770491804, 58.84615384615385, 65.65573770491804, 53.540145985401466, 49.4055944055944, 52.122302158273385]\n",
      "[65.6557377  58.84615385 65.6557377  53.54014599 49.40559441 52.12230216]\n",
      "[65.6557377  53.54014599 65.6557377  49.40559441 52.12230216 58.84615385]\n",
      "65.65573770491804\n"
     ]
    },
    {
     "data": {
      "image/png": "[encoded data removed]",
      "text/plain": [
       "<Figure size 432x288 with 1 Axes>"
      ]
     },
     "metadata": {
      "needs_background": "light"
     },
     "output_type": "display_data"
    }
   ],
   "source": [
    "file = open('test_all', 'rb')\n",
    "# file = open('../optimisation/result/init_data_0', 'rb')\n",
    "\n",
    "test_data = pickle.load(file)\n",
    "# print()\n",
    "\n",
    "file.close()\n",
    "\n",
    "r = test_data.value.copy()\n",
    "\n",
    "s = list(r[32:38])\n",
    "print(s)\n",
    "s = np.array(s)\n",
    "print(s)\n",
    "np.random.shuffle(s)\n",
    "print(s)\n",
    "print(s[0])\n",
    "# s = np.zeros([10, 1])\n",
    "# for i in range(10):\n",
    "#     s[i] = list(r[i+35])\n",
    "\n",
    "# print(s)\n",
    "# s = np.array(s)\n",
    "# # s = np.random.shuffle(s)\n",
    "# print(s)\n",
    "for i in range(6):\n",
    "    r[i+32] = s[i]\n",
    "# yinit = np.zeros([r.shape[0], 1])\n",
    "x_axis = np.linspace(1, 45, 45)\n",
    "plt.plot(x_axis, r,'b.-.', linewidth=0.8)\n",
    "plt.show()"
   ]
  },
  {
   "cell_type": "code",
   "execution_count": 374,
   "metadata": {},
   "outputs": [
    {
     "data": {
      "text/plain": [
       "array(None, dtype=object)"
      ]
     },
     "execution_count": 374,
     "metadata": {},
     "output_type": "execute_result"
    }
   ],
   "source": [
    "s = np.array(s)\n",
    "s"
   ]
  },
  {
   "cell_type": "code",
   "execution_count": 93,
   "metadata": {},
   "outputs": [],
   "source": [
    "data_zt = np.hstack((data_1.zt, data_2.zt))\n",
    "data_y = np.hstack((data_1.value, data_2.value))\n",
    "\n",
    "Zinit = np.zeros([data_zt.shape[0], 8])\n",
    "yinit = np.zeros([data_zt.shape[0], 1])\n",
    "\n",
    "for i in range(data_zt.shape[0]):\n",
    "    Zinit[i] = list(data_zt[i])\n",
    "    yinit[i] = data_y[i]\n",
    "\n",
    "init_data = {}\n",
    "init_data['Z_init'] = Zinit\n",
    "init_data['y_init'] = yinit\n",
    "# init_data\n",
    "\n",
    "saving_path = f'../optimisation/data/'\n",
    "\n",
    "init_fname = saving_path + 'init_data'\n",
    "\n",
    "with open(init_fname, 'wb') as init_data_file:\n",
    "    pickle.dump(init_data, init_data_file)"
   ]
  },
  {
   "cell_type": "code",
   "execution_count": 267,
   "metadata": {},
   "outputs": [],
   "source": [
    "file = open('../optimisation/data/init_data_resistance', 'rb')\n",
    "# file = open('../optimisation/result/init_data_0', 'rb')\n",
    "\n",
    "data = pickle.load(file)\n",
    "\n",
    "file.close()\n",
    "# print(data['Z_init'])\n",
    "\n",
    "\n",
    "# init_data['Z_init'] = data['Z_init']\n",
    "\n",
    "\n",
    "# yinit = np.zeros([v.shape[0], 1])\n",
    "\n",
    "# for i in range(len(v)):\n",
    "#     yinit[i] = (30 - v[i]) / v[i] * 45\n",
    "    \n",
    "# init_data['y_init'] = yinit\n",
    "\n",
    "# saving_path = f'../optimisation/data/'\n",
    "\n",
    "# init_fname = saving_path + 'init_data_resistance'\n",
    "\n",
    "# with open(init_fname, 'wb') as init_data_file:\n",
    "#     pickle.dump(init_data, init_data_file)"
   ]
  },
  {
   "cell_type": "code",
   "execution_count": 261,
   "metadata": {},
   "outputs": [
    {
     "data": {
      "image/png": "[encoded data removed]",
      "text/plain": [
       "<Figure size 432x288 with 1 Axes>"
      ]
     },
     "metadata": {
      "needs_background": "light"
     },
     "output_type": "display_data"
    }
   ],
   "source": [
    "r = data['y_init'] \n",
    "x_axis = np.linspace(1, 25, 25)\n",
    "plt.plot(x_axis, r,'b.-.', linewidth=0.8)\n",
    "plt.show()\n"
   ]
  },
  {
   "cell_type": "code",
   "execution_count": 20,
   "metadata": {},
   "outputs": [
    {
     "data": {
      "text/plain": [
       "[80.0,\n",
       " 77.72727272727273,\n",
       " 81.16822429906543,\n",
       " 72.3913043478261,\n",
       " 84.8076923076923,\n",
       " 83.57142857142857,\n",
       " 73.42105263157895,\n",
       " 66.57024793388429,\n",
       " 57.27272727272728,\n",
       " 73.42105263157895,\n",
       " 66.57024793388429,\n",
       " 70.3846153846154,\n",
       " 74.46902654867256,\n",
       " 72.3913043478261,\n",
       " 76.62162162162161,\n",
       " 80.0,\n",
       " 61.2992125984252,\n",
       " 87.3529411764706,\n",
       " 95.625,\n",
       " 76.62162162162161]"
      ]
     },
     "execution_count": 20,
     "metadata": {},
     "output_type": "execute_result"
    }
   ],
   "source": [
    "voltage = data.value\n",
    "r = []\n",
    "for item in voltage:\n",
    "    re = (30 - item) / item * 45\n",
    "    r.append(re)\n",
    "r"
   ]
  }
 ],
 "metadata": {
  "hide_input": false,
  "kernelspec": {
   "display_name": "Python [conda env:BO] *",
   "language": "python",
   "name": "conda-env-BO-py"
  },
  "language_info": {
   "codemirror_mode": {
    "name": "ipython",
    "version": 3
   },
   "file_extension": ".py",
   "mimetype": "text/x-python",
   "name": "python",
   "nbconvert_exporter": "python",
   "pygments_lexer": "ipython3",
   "version": "3.7.7"
  }
 },
 "nbformat": 4,
 "nbformat_minor": 2
}
