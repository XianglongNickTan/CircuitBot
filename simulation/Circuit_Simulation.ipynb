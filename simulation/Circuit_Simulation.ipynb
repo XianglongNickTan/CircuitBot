{
 "cells": [
  {
   "cell_type": "markdown",
   "metadata": {},
   "source": [
    "# Circuit Simulation"
   ]
  },
  {
   "cell_type": "markdown",
   "metadata": {},
   "source": [
    "### Import Libraries"
   ]
  },
  {
   "cell_type": "code",
   "execution_count": 1,
   "metadata": {},
   "outputs": [],
   "source": [
    "import math\n",
    "import numpy as np"
   ]
  },
  {
   "cell_type": "code",
   "execution_count": 36,
   "metadata": {},
   "outputs": [],
   "source": [
    "from ahkab import new_dc, run\n",
    "from ahkab.circuit import Circuit\n",
    "from ahkab.plotting import plot_results # calls matplotlib for you\n",
    "from ahkab.dc_analysis import dc_guess\n",
    "from ahkab.results import dc_solution\n",
    "\n",
    "import matplotlib.pyplot as plt"
   ]
  },
  {
   "cell_type": "markdown",
   "metadata": {},
   "source": [
    "## Part 1: Pattern Calculation"
   ]
  },
  {
   "cell_type": "code",
   "execution_count": 3,
   "metadata": {},
   "outputs": [],
   "source": [
    "def distance(p1, p2):\n",
    "    return math.sqrt((p1[0] - p2[0])**2 + (p1[1] - p2[1])**2)"
   ]
  },
  {
   "cell_type": "code",
   "execution_count": 4,
   "metadata": {},
   "outputs": [],
   "source": [
    "class Ink_circle:\n",
    "    def __init__(self, center, radius):\n",
    "        self.center = center\n",
    "        self.radius = radius\n",
    "        self.perim = 2 * math.pi * self.radius #周长\n",
    "\n",
    "    def formula(self, point):\n",
    "        # The formula of the circle\n",
    "        return (point[0] - self.center[0])**2 + (point[1] - self.center[1])**2 - self.radius**2\n",
    "    \n",
    "    def insec_circle(self, circle):\n",
    "        # Calculate the points of intersection between 'circle' and itself\n",
    "        d = distance(self.center, circle.center)\n",
    "        if d > self.radius + circle.radius or d < abs(self.radius - circle.radius):\n",
    "            return \"No Intersection\"\n",
    "        elif d == 0 and self.radius == circle.radius:\n",
    "            return \"Same Circle\"\n",
    "        else:\n",
    "            A = (self.radius**2 - circle.radius**2 + d**2) / (2 * d)\n",
    "            h = math.sqrt(self.radius**2 - A**2)\n",
    "            x2 = self.center[0] + A * (circle.center[0] - self.center[0]) / d\n",
    "            y2 = self.center[1] + A * (circle.center[1] - self.center[1]) / d\n",
    "            x3 = x2 - h * (circle.center[1] - self.center[1]) / d\n",
    "            y3 = y2 + h * (circle.center[0] - self.center[0]) / d\n",
    "            x4 = x2 + h * (circle.center[1] - self.center[1]) / d\n",
    "            y4 = y2 - h * (circle.center[0] - self.center[0]) / d\n",
    "            \n",
    "            p1 = (x3, y3)\n",
    "            p2 = (x4, y4)\n",
    "            return p1, p2\n",
    "\n",
    "    def insec_line(self):\n",
    "        # Calculate points of intersection between y = 0 and itself\n",
    "        if self.radius <= abs(self.center[1]):\n",
    "            return \"No Intersection\"\n",
    "        else:\n",
    "            h = abs(self.center[1])\n",
    "            x1 = self.center[0] - math.sqrt((self.radius**2 - h**2))\n",
    "            x2 = self.center[0] + math.sqrt((self.radius**2 - h**2))\n",
    "            return (x1, 0), (x2, 0)\n",
    "    \n",
    "    def len_of_arc(self, p1, p2):\n",
    "        # Calculate the length of arc between two points p1, p2 on the circle\n",
    "        # It will return the length of the shorter arc.\n",
    "        # To get the longer arc, use 'self.perim - self.len_of_arc(p1, p2)'\n",
    "        if abs(self.formula(p1)) > 0.1 or abs(self.formula(p2)) > 0.1:\n",
    "            return \"Points are not on the circle\"\n",
    "        else:\n",
    "            d = distance(p1, p2)\n",
    "            angle = math.asin(d / (2 * self.radius))\n",
    "            return 2 * angle * self.radius\n",
    "        \n",
    "    def draw(self):\n",
    "        # To draw the circle\n",
    "        angles_circle = [i * math.pi/180 for i in range(0,360)]\n",
    "        x = [math.cos(i) * self.radius + self.center[0] for i in angles_circle]\n",
    "        y = [math.sin(i) * self.radius + self.center[1] for i in angles_circle]\n",
    "        return x, y"
   ]
  },
  {
   "cell_type": "code",
   "execution_count": 13,
   "metadata": {},
   "outputs": [
    {
     "data": {
      "image/png": "[encoded data removed]",
      "text/plain": [
       "<matplotlib.figure.Figure at 0x7fb1eef2d198>"
      ]
     },
     "metadata": {},
     "output_type": "display_data"
    }
   ],
   "source": [
    "plt.figure()\n",
    "plt.grid()\n",
    "plt.xticks(np.arange(-50, 60, 10))\n",
    "plt.yticks(np.arange(-50, 60, 10))\n",
    "\n",
    "plt.plot((-50, 50), (0, 0))\n",
    "cir1 = Ink_circle((0, 0), 20)\n",
    "x1, y1 = cir1.draw()\n",
    "plt.plot(x1, y1, 'r')\n",
    "\n",
    "cir2 = Ink_circle((10, 5), 20)\n",
    "x2, y2 = cir2.draw()\n",
    "plt.plot(x2, y2, 'r')\n",
    "\n",
    "txt = [\"p1\", \"p2\", \"p3\", \"p4\", \"p5\", \"p6\"]\n",
    "insec_points = []\n",
    "p1, p2 = cir1.insec_line()\n",
    "p3, p4 = cir2.insec_line()\n",
    "p5, p6 = cir2.insec_circle(cir1)\n",
    "\n",
    "insec_points.append(p1)\n",
    "insec_points.append(p2)\n",
    "insec_points.append(p3)\n",
    "insec_points.append(p4)\n",
    "insec_points.append(p5)\n",
    "insec_points.append(p6)\n",
    "for i in range(6):\n",
    "    plt.annotate(txt[i], xy = insec_points[i])\n",
    "\n",
    "plt.axis('equal')\n",
    "plt.show()"
   ]
  },
  {
   "cell_type": "code",
   "execution_count": 49,
   "metadata": {},
   "outputs": [
    {
     "ename": "KeyError",
     "evalue": "'c'",
     "output_type": "error",
     "traceback": [
      "\u001b[0;31m---------------------------------------------------------------------------\u001b[0m",
      "\u001b[0;31mValueError\u001b[0m                                Traceback (most recent call last)",
      "\u001b[0;32m~/.local/lib/python3.6/site-packages/ahkab/results.py\u001b[0m in \u001b[0;36m__getitem__\u001b[0;34m(self, name)\u001b[0m\n\u001b[1;32m    182\u001b[0m             data, _, _, _ = csvlib.load_csv(self.filename, load_headers=[name],\n\u001b[0;32m--> 183\u001b[0;31m                                             nsamples=None, skip=0, verbose=0)\n\u001b[0m\u001b[1;32m    184\u001b[0m         \u001b[0;32mexcept\u001b[0m \u001b[0mValueError\u001b[0m\u001b[0;34m:\u001b[0m\u001b[0;34m\u001b[0m\u001b[0m\n",
      "\u001b[0;32m~/.local/lib/python3.6/site-packages/ahkab/csvlib.py\u001b[0m in \u001b[0;36mload_csv\u001b[0;34m(filename, load_headers, nsamples, skip, verbose)\u001b[0m\n\u001b[1;32m    261\u001b[0m     \u001b[0;32mif\u001b[0m \u001b[0mload_headers\u001b[0m \u001b[0;32mand\u001b[0m \u001b[0mlen\u001b[0m\u001b[0;34m(\u001b[0m\u001b[0mhis\u001b[0m\u001b[0;34m)\u001b[0m \u001b[0;34m!=\u001b[0m \u001b[0mlen\u001b[0m\u001b[0;34m(\u001b[0m\u001b[0mload_headers\u001b[0m\u001b[0;34m)\u001b[0m\u001b[0;34m:\u001b[0m\u001b[0;34m\u001b[0m\u001b[0m\n\u001b[0;32m--> 262\u001b[0;31m         \u001b[0;32mraise\u001b[0m \u001b[0mValueError\u001b[0m\u001b[0;34m(\u001b[0m\u001b[0;34m\"Specified header not found\"\u001b[0m\u001b[0;34m)\u001b[0m\u001b[0;34m\u001b[0m\u001b[0m\n\u001b[0m\u001b[1;32m    263\u001b[0m \u001b[0;34m\u001b[0m\u001b[0m\n",
      "\u001b[0;31mValueError\u001b[0m: Specified header not found",
      "\nDuring handling of the above exception, another exception occurred:\n",
      "\u001b[0;31mKeyError\u001b[0m                                  Traceback (most recent call last)",
      "\u001b[0;32m<ipython-input-49-d30b73304642>\u001b[0m in \u001b[0;36m<module>\u001b[0;34m()\u001b[0m\n\u001b[1;32m     33\u001b[0m \u001b[0;34m\u001b[0m\u001b[0m\n\u001b[1;32m     34\u001b[0m \u001b[0;31m# plot the results\u001b[0m\u001b[0;34m\u001b[0m\u001b[0;34m\u001b[0m\u001b[0m\n\u001b[0;32m---> 35\u001b[0;31m \u001b[0mplot_results\u001b[0m\u001b[0;34m(\u001b[0m\u001b[0mtitle\u001b[0m \u001b[0;34m=\u001b[0m \u001b[0;34m\"fk\"\u001b[0m\u001b[0;34m,\u001b[0m \u001b[0my2y1_list\u001b[0m \u001b[0;34m=\u001b[0m \u001b[0;34m[\u001b[0m\u001b[0;34m\"dc\"\u001b[0m\u001b[0;34m]\u001b[0m\u001b[0;34m,\u001b[0m \u001b[0mresults\u001b[0m \u001b[0;34m=\u001b[0m \u001b[0mres\u001b[0m\u001b[0;34m[\u001b[0m\u001b[0;34m'dc'\u001b[0m\u001b[0;34m]\u001b[0m\u001b[0;34m)\u001b[0m\u001b[0;34m\u001b[0m\u001b[0m\n\u001b[0m",
      "\u001b[0;32m~/.local/lib/python3.6/site-packages/ahkab/plotting.py\u001b[0m in \u001b[0;36mplot_results\u001b[0;34m(title, y2y1_list, results, outfilename)\u001b[0m\n\u001b[1;32m    209\u001b[0m         \u001b[0;32mif\u001b[0m \u001b[0my1label\u001b[0m \u001b[0;32mis\u001b[0m \u001b[0;32mnot\u001b[0m \u001b[0;32mNone\u001b[0m \u001b[0;32mand\u001b[0m \u001b[0my1label\u001b[0m \u001b[0;34m!=\u001b[0m \u001b[0;34m''\u001b[0m\u001b[0;34m:\u001b[0m\u001b[0;34m\u001b[0m\u001b[0m\n\u001b[1;32m    210\u001b[0m             \u001b[0;32mtry\u001b[0m\u001b[0;34m:\u001b[0m\u001b[0;34m\u001b[0m\u001b[0m\n\u001b[0;32m--> 211\u001b[0;31m                 \u001b[0mdata1\u001b[0m\u001b[0;34m,\u001b[0m \u001b[0m_\u001b[0m \u001b[0;34m=\u001b[0m \u001b[0m_data_abs_arg_pass\u001b[0m\u001b[0;34m(\u001b[0m\u001b[0mresults\u001b[0m\u001b[0;34m,\u001b[0m \u001b[0my1label\u001b[0m\u001b[0;34m)\u001b[0m\u001b[0;34m\u001b[0m\u001b[0m\n\u001b[0m\u001b[1;32m    212\u001b[0m             \u001b[0;32mexcept\u001b[0m \u001b[0mValueError\u001b[0m \u001b[0;32mas\u001b[0m \u001b[0me\u001b[0m\u001b[0;34m:\u001b[0m\u001b[0;34m\u001b[0m\u001b[0m\n\u001b[1;32m    213\u001b[0m                 \u001b[0mprinting\u001b[0m\u001b[0;34m.\u001b[0m\u001b[0mprint_warning\u001b[0m\u001b[0;34m(\u001b[0m\u001b[0mstr\u001b[0m\u001b[0;34m(\u001b[0m\u001b[0me\u001b[0m\u001b[0;34m)\u001b[0m \u001b[0;34m+\u001b[0m \u001b[0;34m\" \"\u001b[0m \u001b[0;34m+\u001b[0m \u001b[0my1label\u001b[0m\u001b[0;34m)\u001b[0m\u001b[0;34m\u001b[0m\u001b[0m\n",
      "\u001b[0;32m~/.local/lib/python3.6/site-packages/ahkab/plotting.py\u001b[0m in \u001b[0;36m_data_abs_arg_pass\u001b[0;34m(res, label)\u001b[0m\n\u001b[1;32m    168\u001b[0m         \u001b[0munits\u001b[0m \u001b[0;34m=\u001b[0m \u001b[0mres\u001b[0m\u001b[0;34m.\u001b[0m\u001b[0munits\u001b[0m\u001b[0;34m[\u001b[0m\u001b[0mlabel\u001b[0m\u001b[0;34m[\u001b[0m\u001b[0;36m4\u001b[0m\u001b[0;34m:\u001b[0m\u001b[0;34m-\u001b[0m\u001b[0;36m1\u001b[0m\u001b[0;34m]\u001b[0m\u001b[0;34m]\u001b[0m\u001b[0;34m\u001b[0m\u001b[0m\n\u001b[1;32m    169\u001b[0m     \u001b[0;32melse\u001b[0m\u001b[0;34m:\u001b[0m\u001b[0;34m\u001b[0m\u001b[0m\n\u001b[0;32m--> 170\u001b[0;31m         \u001b[0mdata\u001b[0m \u001b[0;34m=\u001b[0m \u001b[0mres\u001b[0m\u001b[0;34m[\u001b[0m\u001b[0mlabel\u001b[0m\u001b[0;34m]\u001b[0m\u001b[0;34m\u001b[0m\u001b[0m\n\u001b[0m\u001b[1;32m    171\u001b[0m         \u001b[0munits\u001b[0m \u001b[0;34m=\u001b[0m \u001b[0mres\u001b[0m\u001b[0;34m.\u001b[0m\u001b[0munits\u001b[0m\u001b[0;34m[\u001b[0m\u001b[0mlabel\u001b[0m\u001b[0;34m]\u001b[0m\u001b[0;34m\u001b[0m\u001b[0m\n\u001b[1;32m    172\u001b[0m     \u001b[0;32mreturn\u001b[0m \u001b[0mdata\u001b[0m\u001b[0;34m,\u001b[0m \u001b[0munits\u001b[0m\u001b[0;34m\u001b[0m\u001b[0m\n",
      "\u001b[0;32m~/.local/lib/python3.6/site-packages/ahkab/results.py\u001b[0m in \u001b[0;36m__getitem__\u001b[0;34m(self, name)\u001b[0m\n\u001b[1;32m    183\u001b[0m                                             nsamples=None, skip=0, verbose=0)\n\u001b[1;32m    184\u001b[0m         \u001b[0;32mexcept\u001b[0m \u001b[0mValueError\u001b[0m\u001b[0;34m:\u001b[0m\u001b[0;34m\u001b[0m\u001b[0m\n\u001b[0;32m--> 185\u001b[0;31m             \u001b[0;32mraise\u001b[0m \u001b[0mKeyError\u001b[0m\u001b[0;34m(\u001b[0m\u001b[0mname\u001b[0m\u001b[0;34m)\u001b[0m\u001b[0;34m\u001b[0m\u001b[0m\n\u001b[0m\u001b[1;32m    186\u001b[0m         \u001b[0;32mreturn\u001b[0m \u001b[0mdata\u001b[0m\u001b[0;34m.\u001b[0m\u001b[0mreshape\u001b[0m\u001b[0;34m(\u001b[0m\u001b[0;34m(\u001b[0m\u001b[0;34m-\u001b[0m\u001b[0;36m1\u001b[0m\u001b[0;34m,\u001b[0m\u001b[0;34m)\u001b[0m\u001b[0;34m)\u001b[0m\u001b[0;34m\u001b[0m\u001b[0m\n\u001b[1;32m    187\u001b[0m \u001b[0;34m\u001b[0m\u001b[0m\n",
      "\u001b[0;31mKeyError\u001b[0m: 'c'"
     ]
    },
    {
     "data": {
      "text/plain": [
       "<matplotlib.figure.Figure at 0x7fb1eee7d550>"
      ]
     },
     "metadata": {},
     "output_type": "display_data"
    }
   ],
   "source": [
    "rho = 1\n",
    "initial_rho = 10\n",
    "cir = Circuit(\"CircuitBot\")\n",
    "cir.add_vsource(\"V\", \"p1\", cir.gnd, dc_value = 1, ac_value = 0)\n",
    "r1 = cir1.len_of_arc(p1, p6) * rho\n",
    "r2 = cir1.len_of_arc(p1, p5) * rho\n",
    "r3 = (p3[0] - p1[0]) * initial_rho\n",
    "r4 = cir2.len_of_arc(p3, p6) * rho\n",
    "r5 = cir2.len_of_arc(p3, p5) * rho\n",
    "r6 = (p2[0] - p3[0]) * initial_rho\n",
    "r7 = cir1.len_of_arc(p6, p2) * rho\n",
    "r8 = cir1.len_of_arc(p2, p5) * rho\n",
    "r9 = (p4[0] - p2[0]) * initial_rho\n",
    "r10 = cir2.len_of_arc(p6, p4) * rho\n",
    "r11 = cir2.len_of_arc(p4, p5) * rho\n",
    "\n",
    "cir.add_resistor(\"r1\", \"p1\", \"p6\", r1)\n",
    "cir.add_resistor(\"r2\", \"p1\", \"p5\", r2)\n",
    "cir.add_resistor(\"r3\", \"p3\", \"p1\", r3)\n",
    "cir.add_resistor(\"r4\", \"p3\", \"p6\", r4)\n",
    "cir.add_resistor(\"r5\", \"p3\", \"p5\", r5)\n",
    "cir.add_resistor(\"r6\", \"p2\", \"p3\", r6)\n",
    "cir.add_resistor(\"r7\", \"p6\", \"p2\", r7)\n",
    "cir.add_resistor(\"r8\", \"p2\", \"p5\", r8)\n",
    "cir.add_resistor(\"r9\", cir.gnd, \"p2\", r9)\n",
    "cir.add_resistor(\"r10\", \"p6\", cir.gnd, r10)\n",
    "cir.add_resistor(\"r11\", cir.gnd, \"p5\", r11)\n",
    "\n",
    "dc1 = new_dc(.97e3, 1.03e3, 1e2, \"V\")\n",
    "\n",
    "# run it\n",
    "res = run(cir, dc1)\n",
    "\n",
    "# plot the results\n",
    "plot_results(title = \"fk\", y2y1_list = [\"dc\"], results = res['dc'])"
   ]
  },
  {
   "cell_type": "markdown",
   "metadata": {},
   "source": [
    "## Part 2: Circuit Simulation"
   ]
  },
  {
   "cell_type": "code",
   "execution_count": 23,
   "metadata": {},
   "outputs": [],
   "source": [
    "class Ink_Circuit:\n",
    "    def __init__(self):\n",
    "        self.cir = Circuit(\"CircuitBot\")\n",
    "        self.cir.add_vsource(\"V\", \"n1\", self.cir.gnd, dc_value = 1, ac_value = 0)\n",
    "        self.ink_circles = []    # Save all circles\n",
    "        self.rho = 1   # The resistivity. Use 'self.rho * [length]' to calculate the value of resistance\n",
    "        \n",
    "        \n",
    "    def add_circle(self, center, radius):\n",
    "        new_circle = Circle(center, radius)\n",
    "        \n",
    "#         p1, p2 = new_circle.insec_line()\n",
    "#         r1 = new_circle.len_of_arc(p1, p2)\n",
    "#         r2 = new_circle.perim - r1\n",
    "#         self.cir.add_resistor(\"R1\", )\n",
    "        \n",
    "# #         if len(self.ink_circles) > 0:\n",
    "# #             for c in self.ink_circles:\n",
    "# #                 p3, p4 = new_circle.insec_circle(c)\n",
    "\n",
    "\n",
    "    def get_value(self):\n",
    "        "
   ]
  },
  {
   "cell_type": "code",
   "execution_count": 22,
   "metadata": {},
   "outputs": [],
   "source": []
  }
 ],
 "metadata": {
  "kernelspec": {
   "display_name": "Python 3",
   "language": "python",
   "name": "python3"
  },
  "language_info": {
   "codemirror_mode": {
    "name": "ipython",
    "version": 3
   },
   "file_extension": ".py",
   "mimetype": "text/x-python",
   "name": "python",
   "nbconvert_exporter": "python",
   "pygments_lexer": "ipython3",
   "version": "3.6.6"
  }
 },
 "nbformat": 4,
 "nbformat_minor": 2
}
