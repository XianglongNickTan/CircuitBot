{
 "cells": [
  {
   "cell_type": "code",
   "execution_count": 460,
   "metadata": {},
   "outputs": [
    {
     "name": "stdout",
     "output_type": "stream",
     "text": [
      "{'x1': -6, 'y1': -5, 'x2': 0, 'y2': -4, 'x3': 3, 'y3': 0, 'x4': 8, 'y4': 1, 'x5': -8, 'y5': 1}\n"
     ]
    }
   ],
   "source": [
    "state_list = [-6, 0, 3, 8, -8, -5, -4, 0, 1, 1]\n",
    "    # \n",
    "    # \n",
    "    # \n",
    "    # \n",
    "    \n",
    "center = [[state_list[i], state_list[i + 5]] for i in range(0, 5)]\n",
    "\n",
    "dic = {\"x1\": center[0][0], 'y1': center[0][1], 'x2': center[1][0], 'y2': center[1][1],\n",
    "'x3': center[2][0], 'y3': center[2][1], 'x4': center[3][0], 'y4': center[3][1],\n",
    "'x5': center[4][0], 'y5': center[4][1]}\n",
    "print(dic)\n",
    "    "
   ]
  },
  {
   "cell_type": "code",
   "execution_count": 466,
   "metadata": {},
   "outputs": [
    {
     "data": {
      "text/plain": [
       "[[36.363636363636346],\n",
       " [59.57446808510639],\n",
       " [45.63106796116503],\n",
       " [63.04347826086959],\n",
       " [33.928571428571445]]"
      ]
     },
     "execution_count": 466,
     "metadata": {},
     "output_type": "execute_result"
    }
   ],
   "source": [
    "results = [0, 0, 0, 0, 0, 22, 18.8, 20.6, 18.4, 22.4]\n",
    "r = [[30 / results[i] * 100 - 100] for i in range(5, 10)]\n",
    "r"
   ]
  }
 ],
 "metadata": {
  "kernelspec": {
   "display_name": "Python [conda env:BO] *",
   "language": "python",
   "name": "conda-env-BO-py"
  },
  "language_info": {
   "codemirror_mode": {
    "name": "ipython",
    "version": 3
   },
   "file_extension": ".py",
   "mimetype": "text/x-python",
   "name": "python",
   "nbconvert_exporter": "python",
   "pygments_lexer": "ipython3",
   "version": "3.7.7"
  }
 },
 "nbformat": 4,
 "nbformat_minor": 4
}
