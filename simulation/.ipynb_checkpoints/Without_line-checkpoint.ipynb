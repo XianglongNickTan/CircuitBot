{
 "cells": [
  {
   "cell_type": "code",
   "execution_count": 455,
   "metadata": {},
   "outputs": [
    {
     "name": "stdout",
     "output_type": "stream",
     "text": [
      "{'x1': -2, 'y1': 2, 'x2': 4, 'y2': -1, 'x3': -7, 'y3': 1, 'x4': 9, 'y4': -4, 'x5': -11, 'y5': -3}\n"
     ]
    }
   ],
   "source": [
    "probe1 = {'x1': 0.12, 'y1': -0.52, 'x2': -0.03, 'y2': -0.52, 'x3': -0.18, 'y3': -0.52}\n",
    "probe2 = {'x1': 0.07, 'y1': -0.52, 'x2': -0.03, 'y2': -0.52, 'x3': -0.13, 'y3': -0.52}\n",
    "probe3 = {'x1': 0.04, 'y1': -0.52, 'x2': -0.03, 'y2': -0.52, 'x3': -0.10, 'y3': -0.52}\n",
    "probe4 = {'x1': 0.12, 'y1': -0.60, 'x2': -0.03, 'y2': -0.60, 'x3': -0.18, 'y3': -0.60}\n",
    "probe5 = {'x1': 0.07, 'y1': -0.60, 'x2': -0.03, 'y2': -0.60, 'x3': -0.13, 'y3': -0.60}\n",
    "probe6 = {'x1': 0.04, 'y1': -0.60, 'x2': -0.03, 'y2': -0.60, 'x3': -0.10, 'y3': -0.60}\n",
    "probe7 = {'x1': 0.12, 'y1': -0.45, 'x2': -0.03, 'y2': -0.45, 'x3': -0.18, 'y3': -0.45}\n",
    "probe8 = {'x1': 0.07, 'y1': -0.45, 'x2': -0.03, 'y2': -0.45, 'x3': -0.13, 'y3': -0.45}\n",
    "probe9 = {'x1': 0.04, 'y1': -0.45, 'x2': -0.03, 'y2': -0.45, 'x3': -0.10, 'y3': -0.45}\n",
    "probes = [probe1, probe2, probe3, probe4, probe5, probe6, probe7, probe8, probe9]\n",
    "\n",
    "\n",
    "\n",
    "state_list = [-10, -2, 11, 1, 5, -2, 2, 3, -5, 3]\n",
    "    # \n",
    "    # [10, -9, -9, 7, -2, -3, 4, -2, 3, 2]\n",
    "    # [-10, 11, 2, -7, -6, 2, -3, 1, 5, 3]\n",
    "    # [-6, 0, 3, 8, -8, -5, -4, 0, 1, 1]\n",
    "    \n",
    "center = [[state_list[i], state_list[i + 5]] for i in range(0, 5)]\n",
    "\n",
    "dic = {\"x1\": center[0][0], 'y1': center[0][1], 'x2': center[1][0], 'y2': center[1][1],\n",
    "'x3': center[2][0], 'y3': center[2][1], 'x4': center[3][0], 'y4': center[3][1],\n",
    "'x5': center[4][0], 'y5': center[4][1]}\n",
    "print(dic)\n",
    "    "
   ]
  }
 ],
 "metadata": {
  "kernelspec": {
   "display_name": "Python [conda env:BO] *",
   "language": "python",
   "name": "conda-env-BO-py"
  },
  "language_info": {
   "codemirror_mode": {
    "name": "ipython",
    "version": 3
   },
   "file_extension": ".py",
   "mimetype": "text/x-python",
   "name": "python",
   "nbconvert_exporter": "python",
   "pygments_lexer": "ipython3",
   "version": "3.7.7"
  }
 },
 "nbformat": 4,
 "nbformat_minor": 4
}
