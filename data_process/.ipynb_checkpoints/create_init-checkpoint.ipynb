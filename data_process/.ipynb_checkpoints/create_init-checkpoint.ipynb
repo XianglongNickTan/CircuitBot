{
 "cells": [
  {
   "cell_type": "code",
   "execution_count": 33,
   "metadata": {},
   "outputs": [],
   "source": [
    "import pickle\n",
    "import numpy as np\n",
    "import matplotlib.pyplot as plt\n",
    "import pandas as pd\n",
    "\n",
    "circle_5_file = open('../result/11_10_20_10fullcircle_kappa_2/CircuitBot_all', 'rb')\n",
    "circle_4_file = open('../result/12_10_20_10fourcircle_kappa_2/CircuitBot_all', 'rb')\n",
    "circle_3_file = open('../result/12_10_20_5threecircle_kappa_2/CircuitBot_all', 'rb')\n",
    "               \n",
    "file = open('../result/08_10_20_20trials_kappa_2/CoCaBO_1_best_vals_LCB_ARD_False_mix_0.5_all', 'rb')\n",
    "# file = open('../optimisation/result/CircuitBot_all', 'rb')\n",
    "\n",
    "\n",
    "# file = open('../optimisation/result/init_data_0', 'rb')\n",
    "\n",
    "data = pickle.load(file)\n",
    "circle_5 = pickle.load(circle_5_file)\n",
    "circle_4 = pickle.load(circle_4_file)\n",
    "circle_3 = pickle.load(circle_3_file)\n",
    "\n",
    "file.close()\n",
    "circle_5_file.close()\n",
    "circle_4_file.close()\n",
    "circle_3_file.close()"
   ]
  },
  {
   "cell_type": "code",
   "execution_count": 34,
   "metadata": {},
   "outputs": [],
   "source": [
    "voltage = np.sqrt(data.value)\n",
    "r = []\n",
    "for item in voltage:\n",
    "    re = (30 - item) / item * 45\n",
    "    r.append(re)"
   ]
  },
  {
   "cell_type": "code",
   "execution_count": 42,
   "metadata": {},
   "outputs": [],
   "source": [
    "voltage_r = 11.3\n",
    "re = (30 - voltage_r) / voltage_r * 45\n",
    "\n",
    "Zinit = np.zeros([5, 8])\n",
    "yinit_v = np.zeros([5, 1])\n",
    "yinit_r = np.zeros([5, 1])\n",
    "\n",
    "Zinit[0] = data.zt[0]\n",
    "Zinit[1] = data.zt[3]\n",
    "Zinit[2] = data.zt[8]\n",
    "Zinit[3] = data.zt[12]\n",
    "Zinit[4] = [ 0.,          0.,          0.,          0.,          0.,          4.7273609,\n",
    "  1.40893227, -4.99945486]\n",
    "\n",
    "# yinit_v[0] = voltage[0]\n",
    "# yinit_v[1] = voltage[3]\n",
    "# yinit_v[2] = voltage[8]\n",
    "# yinit_v[3] = voltage[12]\n",
    "# yinit_v[4] = voltage_r\n",
    "\n",
    "yinit_v[0] = 1.1\n",
    "yinit_v[1] = 0.9\n",
    "yinit_v[2] = 1.2\n",
    "yinit_v[3] = 1\n",
    "yinit_v[4] = voltage_r\n",
    "\n",
    "yinit_r[0] = r[0]\n",
    "yinit_r[1] = r[3]\n",
    "yinit_r[2] = r[8]\n",
    "yinit_r[3] = r[12]\n",
    "yinit_r[4] = re\n"
   ]
  },
  {
   "cell_type": "code",
   "execution_count": 43,
   "metadata": {},
   "outputs": [],
   "source": [
    "init_data = {}\n",
    "init_data['Z_init'] = Zinit\n",
    "init_data['y_init_v'] = yinit_v\n",
    "init_data['y_init_r'] = yinit_r\n",
    "\n",
    "# init_data\n",
    "\n",
    "saving_path = f'../optimisation/data/'\n",
    "\n",
    "init_fname = saving_path + 'init_data_5points_with_barrier'\n",
    "\n",
    "with open(init_fname, 'wb') as init_data_file:\n",
    "    pickle.dump(init_data, init_data_file)"
   ]
  },
  {
   "cell_type": "code",
   "execution_count": 44,
   "metadata": {},
   "outputs": [
    {
     "name": "stdout",
     "output_type": "stream",
     "text": [
      "{'Z_init': array([[ 0.        ,  1.        ,  0.        ,  0.        ,  0.        ,\n",
      "         4.7273609 ,  1.40893227, -4.99945486],\n",
      "       [ 1.        ,  1.        ,  0.        ,  0.        ,  0.        ,\n",
      "         7.23279223, -1.13072151, -4.26158013],\n",
      "       [ 1.        ,  0.        ,  1.        ,  1.        ,  0.        ,\n",
      "         5.13537283,  0.14049846, -6.42247957],\n",
      "       [ 1.        ,  0.        ,  1.        ,  1.        ,  0.        ,\n",
      "         5.25019369,  0.80728367, -6.17983819],\n",
      "       [ 0.        ,  0.        ,  0.        ,  0.        ,  0.        ,\n",
      "         4.7273609 ,  1.40893227, -4.99945486]]), 'y_init_v': array([[ 1.1],\n",
      "       [ 0.9],\n",
      "       [ 1.2],\n",
      "       [ 1. ],\n",
      "       [11.3]]), 'y_init_r': array([[83.57142857],\n",
      "       [71.37931034],\n",
      "       [68.44537815],\n",
      "       [67.5       ],\n",
      "       [74.46902655]])}\n"
     ]
    },
    {
     "data": {
      "text/plain": [
       "3.1"
      ]
     },
     "execution_count": 44,
     "metadata": {},
     "output_type": "execute_result"
    }
   ],
   "source": [
    "file = open(f'../optimisation/data/init_data_5points_with_barrier', 'rb')\n",
    "\n",
    "init_data = pickle.load(file)\n",
    "\n",
    "file.close()\n",
    "print(init_data)\n",
    "np.std(init_data['y_init_v'])\n",
    "np.mean(init_data['y_init_v'])"
   ]
  },
  {
   "cell_type": "code",
   "execution_count": null,
   "metadata": {},
   "outputs": [],
   "source": [
    "r = []\n",
    "for item in voltage:\n",
    "    re = (30 - item) / item * 45\n",
    "    r.append(re)\n",
    "\n",
    "data_y = np.hstack((r, circle_3.value))\n",
    "data_y = np.hstack((data_y, circle_4.value))\n",
    "data_y = np.hstack((data_y, circle_5.value))\n",
    "\n",
    "data_zt = np.hstack((data.zt, circle_3.zt))\n",
    "data_zt = np.hstack((data_zt, circle_4.zt))\n",
    "data_zt = np.hstack((data_zt, circle_5.zt))\n",
    "\n",
    "data_circle_num = np.hstack((data.circle_num, circle_3.circle_num))\n",
    "data_circle_num = np.hstack((data_circle_num, circle_4.circle_num))\n",
    "data_circle_num = np.hstack((data_circle_num, circle_5.circle_num))\n",
    "\n",
    "result_list=[]\n",
    "for i in range(45):\n",
    "    result_list.append([data_zt[i], data_circle_num[i], data_y[i]])\n",
    "df = pd.DataFrame(result_list, columns=[\"zt\", \"circle_num\", \"value\"])\n",
    "df.to_pickle(f\"test_all\")\n",
    "file = open('test_all', 'rb')\n",
    "# file = open('../optimisation/result/init_data_0', 'rb')\n",
    "\n",
    "test_data = pickle.load(file)\n",
    "# print()\n",
    "\n",
    "file.close()"
   ]
  }
 ],
 "metadata": {
  "kernelspec": {
   "display_name": "Python [conda env:BO] *",
   "language": "python",
   "name": "conda-env-BO-py"
  },
  "language_info": {
   "codemirror_mode": {
    "name": "ipython",
    "version": 3
   },
   "file_extension": ".py",
   "mimetype": "text/x-python",
   "name": "python",
   "nbconvert_exporter": "python",
   "pygments_lexer": "ipython3",
   "version": "3.7.7"
  }
 },
 "nbformat": 4,
 "nbformat_minor": 4
}
