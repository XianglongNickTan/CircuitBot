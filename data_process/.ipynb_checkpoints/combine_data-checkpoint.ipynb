{
 "cells": [
  {
   "cell_type": "code",
   "execution_count": 1,
   "metadata": {},
   "outputs": [],
   "source": [
    "import pickle\n",
    "import numpy as np\n",
    "import matplotlib.pyplot as plt\n",
    "import pandas as pd\n",
    "\n",
    "circle_5_file = open('../result/11_10_20_10fullcircle_kappa_2/CircuitBot_all', 'rb')\n",
    "circle_4_file = open('../result/12_10_20_10fourcircle_kappa_2/CircuitBot_all', 'rb')\n",
    "circle_3_file = open('../result/12_10_20_5threecircle_kappa_2/CircuitBot_all', 'rb')\n",
    "               \n",
    "file = open('../result/08_10_20_20trials_kappa_2/CoCaBO_1_best_vals_LCB_ARD_False_mix_0.5_all', 'rb')\n",
    "# file = open('../optimisation/result/CircuitBot_all', 'rb')\n",
    "\n",
    "\n",
    "# file = open('../optimisation/result/init_data_0', 'rb')\n",
    "\n",
    "data = pickle.load(file)\n",
    "circle_5 = pickle.load(circle_5_file)\n",
    "circle_4 = pickle.load(circle_4_file)\n",
    "circle_3 = pickle.load(circle_3_file)\n",
    "\n",
    "file.close()\n",
    "circle_5_file.close()\n",
    "circle_4_file.close()\n",
    "circle_3_file.close()\n",
    "\n",
    "# print(data)"
   ]
  },
  {
   "cell_type": "code",
   "execution_count": 7,
   "metadata": {},
   "outputs": [],
   "source": [
    "o_f = open('../optimisation/utlis_data/exp_1_result_plot', 'rb')\n",
    "add_f = open('../optimisation/utlis_data/exp_1_30_40_result', 'rb')\n",
    "\n",
    "o = pickle.load(o_f)\n",
    "add = pickle.load(add_f)\n",
    "\n",
    "o_f.close()\n",
    "add_f.close()\n",
    "\n",
    "# print(add)"
   ]
  },
  {
   "cell_type": "code",
   "execution_count": 9,
   "metadata": {},
   "outputs": [],
   "source": [
    "voltage = np.hstack((o.voltage, add.voltage))\n",
    "\n",
    "circle_num = np.hstack((o.circle_num, add.circle_num))\n",
    "\n",
    "p1 = np.hstack((o.p1, add.p1))\n",
    "p2 = np.hstack((o.p2, add.p2))\n",
    "p3 = np.hstack((o.p3, add.p3))\n",
    "p4 = np.hstack((o.p4, add.p4))\n",
    "p5 = np.hstack((o.p5, add.p5))\n",
    "\n",
    "result_list=[]\n",
    "for i in range(40):\n",
    "    result_list.append([voltage[i], circle_num[i], p1[i], p2[i], p3[i], p4[i], p5[i]])\n",
    "df = pd.DataFrame(result_list, columns=[\"voltage\", \"circle_num\",  \"p1\", \"p2\", \"p3\", \"p4\", \"p5\"])\n",
    "# df.to_pickle(f\"exp_1\")"
   ]
  },
  {
   "cell_type": "code",
   "execution_count": null,
   "metadata": {},
   "outputs": [],
   "source": []
  },
  {
   "cell_type": "code",
   "execution_count": 25,
   "metadata": {},
   "outputs": [
    {
     "name": "stdout",
     "output_type": "stream",
     "text": [
      "[10.500000000000002, 11.3, 10.7, 11.600000000000001, 11.7, 11.600000000000001, 11.8, 12.5, 11.899999999999999, 11.5, 12.0, 11.3, 12.0, 13.0, 12.8, 12.100000000000001, 12.9, 11.7, 11.600000000000001, 11.600000000000001, 12.4, 12.4, 12.3, 11.3, 12.600000000000001, 11.8, 12.4, 13.0, 12.2, 12.7, 12.600000000000001, 12.2, 12.2, 13.0, 12.2, 13.7, 14.3, 13.9, 13.8, 14.000000000000002, 13.7, 13.400000000000002, 14.3, 12.8, 14.2]\n"
     ]
    }
   ],
   "source": [
    "voltage = np.sqrt(data.value)\n",
    "r = []\n",
    "for item in voltage:\n",
    "    re = (30 - item) / item * 45\n",
    "    r.append(re)\n",
    "\n",
    "data_y = np.hstack((r, circle_3.value))\n",
    "data_y = np.hstack((data_y, circle_4.value))\n",
    "data_y = np.hstack((data_y, circle_5.value))\n",
    "\n",
    "data_zt = np.hstack((data.zt, circle_3.zt))\n",
    "data_zt = np.hstack((data_zt, circle_4.zt))\n",
    "data_zt = np.hstack((data_zt, circle_5.zt))\n",
    "\n",
    "data_ht = np.hstack((data.ht, circle_3.ht))\n",
    "data_ht = np.hstack((data_ht, circle_4.ht))\n",
    "data_ht = np.hstack((data_ht, circle_5.ht))\n",
    "\n",
    "data_circle_num = np.hstack((data.circle_num, circle_3.circle_num))\n",
    "data_circle_num = np.hstack((data_circle_num, circle_4.circle_num))\n",
    "data_circle_num = np.hstack((data_circle_num, circle_5.circle_num))\n",
    "\n",
    "voltage_y = list(map(lambda s: 45 / (s + 45) * 30, data_y))\n",
    "\n",
    "result_list=[]\n",
    "for i in range(45):\n",
    "    result_list.append([data_ht[i], data_zt[i], data_circle_num[i],  voltage_y[i]  ,data_y[i]])\n",
    "df = pd.DataFrame(result_list, columns=[\"ht\", \"zt\", \"circle_num\", \"voltage\", \"resistance\"])\n",
    "df.to_pickle(f\"experiment_mean_no_barrier\")\n"
   ]
  },
  {
   "cell_type": "code",
   "execution_count": 26,
   "metadata": {},
   "outputs": [
    {
     "name": "stdout",
     "output_type": "stream",
     "text": [
      "                 ht                                                 zt  \\\n",
      "0   [0, 1, 0, 0, 0]  [0.0, 1.0, 0.0, 0.0, 0.0, 4.727360901486138, 1...   \n",
      "1   [0, 1, 0, 0, 0]  [0.0, 1.0, 0.0, 0.0, 0.0, 6.62875612244169, 0....   \n",
      "2   [0, 1, 0, 0, 0]  [0.0, 1.0, 0.0, 0.0, 0.0, 6.8459400511934625, ...   \n",
      "3   [1, 1, 0, 0, 0]  [1.0, 1.0, 0.0, 0.0, 0.0, 7.232792234960553, -...   \n",
      "4   [1, 1, 0, 0, 0]  [1.0, 1.0, 0.0, 0.0, 0.0, 5.985152089807722, 0...   \n",
      "5   [1, 0, 1, 0, 0]  [1.0, 0.0, 1.0, 0.0, 0.0, 5.963179847062163, 0...   \n",
      "6   [1, 0, 1, 0, 0]  [1.0, 0.0, 1.0, 0.0, 0.0, 4.765931152798372, 0...   \n",
      "7   [1, 0, 1, 1, 0]  [1.0, 0.0, 1.0, 1.0, 0.0, 5.304913375276967, 0...   \n",
      "8   [1, 0, 1, 1, 0]  [1.0, 0.0, 1.0, 1.0, 0.0, 5.135372829412697, 0...   \n",
      "9   [1, 0, 1, 0, 0]  [1.0, 0.0, 1.0, 0.0, 0.0, 7.863143570826762, -...   \n",
      "10  [1, 0, 1, 0, 0]  [1.0, 0.0, 1.0, 0.0, 0.0, 5.454123020832867, 0...   \n",
      "11  [1, 0, 1, 0, 0]  [1.0, 0.0, 1.0, 0.0, 0.0, 6.462284502029992, -...   \n",
      "12  [1, 0, 1, 1, 0]  [1.0, 0.0, 1.0, 1.0, 0.0, 5.25019369140582, 0....   \n",
      "13  [1, 0, 1, 1, 1]  [1.0, 0.0, 1.0, 1.0, 1.0, 5.199709055380494, 0...   \n",
      "14  [1, 0, 1, 1, 0]  [1.0, 0.0, 1.0, 1.0, 0.0, 4.772822514568195, -...   \n",
      "15  [1, 0, 1, 1, 0]         [1.0, 0.0, 1.0, 1.0, 0.0, 8.0, -2.0, -8.0]   \n",
      "16  [1, 0, 1, 1, 0]  [1.0, 0.0, 1.0, 1.0, 0.0, 4.945061863281644, -...   \n",
      "17  [1, 0, 0, 1, 0]  [1.0, 0.0, 0.0, 1.0, 0.0, 4.586780913328822, -...   \n",
      "18  [1, 0, 1, 1, 0]  [1.0, 0.0, 1.0, 1.0, 0.0, 5.2772071571899035, ...   \n",
      "19  [1, 0, 0, 1, 0]  [1.0, 0.0, 0.0, 1.0, 0.0, 7.327222046605049, 2...   \n",
      "20  [1, 1, 1, 0, 0]  [1.0, 1.0, 1.0, 0.0, 0.0, 6.578962929233754, 0...   \n",
      "21  [1, 0, 1, 0, 1]  [1.0, 0.0, 1.0, 0.0, 1.0, 4.37048642451868, -0...   \n",
      "22  [1, 0, 1, 0, 1]  [1.0, 0.0, 1.0, 0.0, 1.0, 4.0, -0.972414744788...   \n",
      "23  [1, 1, 0, 1, 0]  [1.0, 1.0, 0.0, 1.0, 0.0, 4.901338879528271, -...   \n",
      "24  [1, 1, 0, 1, 1]  [1.0, 1.0, 0.0, 1.0, 1.0, 6.56211745583027, 0....   \n",
      "25  [1, 1, 1, 1, 0]  [1.0, 1.0, 1.0, 1.0, 0.0, 6.581428987706411, 0...   \n",
      "26  [1, 0, 1, 1, 1]  [1.0, 0.0, 1.0, 1.0, 1.0, 7.562413630874161, -...   \n",
      "27  [1, 1, 0, 1, 1]  [1.0, 1.0, 0.0, 1.0, 1.0, 4.507312613738436, -...   \n",
      "28  [1, 1, 1, 1, 0]  [1.0, 1.0, 1.0, 1.0, 0.0, 5.299317129494726, 0...   \n",
      "29  [1, 1, 1, 1, 0]  [1.0, 1.0, 1.0, 1.0, 0.0, 4.808874702816812, -...   \n",
      "30  [1, 1, 1, 0, 1]  [1.0, 1.0, 1.0, 0.0, 1.0, 7.370859417846196, 0...   \n",
      "31  [1, 1, 0, 1, 1]  [1.0, 1.0, 0.0, 1.0, 1.0, 4.0, -2.0, -6.989950...   \n",
      "32  [1, 0, 1, 1, 1]  [1.0, 0.0, 1.0, 1.0, 1.0, 7.66644209470244, -1...   \n",
      "33  [1, 1, 1, 1, 0]  [1.0, 1.0, 1.0, 1.0, 0.0, 4.1007054803454634, ...   \n",
      "34  [1, 1, 1, 0, 1]  [1.0, 1.0, 1.0, 0.0, 1.0, 4.0, 0.6776299605301...   \n",
      "35  [1, 1, 1, 1, 1]  [1.0, 1.0, 1.0, 1.0, 1.0, 6.533196857481167, 0...   \n",
      "36  [1, 1, 1, 1, 1]  [1.0, 1.0, 1.0, 1.0, 1.0, 4.300314741108563, -...   \n",
      "37  [1, 1, 1, 1, 1]  [1.0, 1.0, 1.0, 1.0, 1.0, 7.139269799336319, 0...   \n",
      "38  [1, 1, 1, 1, 1]  [1.0, 1.0, 1.0, 1.0, 1.0, 4.4782243914739714, ...   \n",
      "39  [1, 1, 1, 1, 1]  [1.0, 1.0, 1.0, 1.0, 1.0, 4.0, 0.0384964861228...   \n",
      "40  [1, 1, 1, 1, 1]  [1.0, 1.0, 1.0, 1.0, 1.0, 4.0, -2.0, -4.132410...   \n",
      "41  [1, 1, 1, 1, 1]          [1.0, 1.0, 1.0, 1.0, 1.0, 8.0, 2.0, -8.0]   \n",
      "42  [1, 1, 1, 1, 1]          [1.0, 1.0, 1.0, 1.0, 1.0, 4.0, 2.0, -8.0]   \n",
      "43  [1, 1, 1, 1, 1]  [1.0, 1.0, 1.0, 1.0, 1.0, 4.0, 0.0805184637565...   \n",
      "44  [1, 1, 1, 1, 1]  [1.0, 1.0, 1.0, 1.0, 1.0, 4.0, -2.0, -5.836827...   \n",
      "\n",
      "    circle_num  voltage  resistance  \n",
      "0          1.0     10.5   83.571429  \n",
      "1          1.0     11.3   74.469027  \n",
      "2          1.0     10.7   81.168224  \n",
      "3          2.0     11.6   71.379310  \n",
      "4          2.0     11.7   70.384615  \n",
      "5          2.0     11.6   71.379310  \n",
      "6          2.0     11.8   69.406780  \n",
      "7          3.0     12.5   63.000000  \n",
      "8          3.0     11.9   68.445378  \n",
      "9          2.0     11.5   72.391304  \n",
      "10         2.0     12.0   67.500000  \n",
      "11         2.0     11.3   74.469027  \n",
      "12         3.0     12.0   67.500000  \n",
      "13         4.0     13.0   58.846154  \n",
      "14         3.0     12.8   60.468750  \n",
      "15         3.0     12.1   66.570248  \n",
      "16         3.0     12.9   59.651163  \n",
      "17         2.0     11.7   70.384615  \n",
      "18         3.0     11.6   71.379310  \n",
      "19         2.0     11.6   71.379310  \n",
      "20         3.0     12.4   63.870968  \n",
      "21         3.0     12.4   63.870968  \n",
      "22         3.0     12.3   64.756098  \n",
      "23         3.0     11.3   74.469027  \n",
      "24         4.0     12.6   62.142857  \n",
      "25         4.0     11.8   69.406780  \n",
      "26         4.0     12.4   63.870968  \n",
      "27         4.0     13.0   58.846154  \n",
      "28         4.0     12.2   65.655738  \n",
      "29         4.0     12.7   61.299213  \n",
      "30         4.0     12.6   62.142857  \n",
      "31         4.0     12.2   65.655738  \n",
      "32         4.0     12.2   65.655738  \n",
      "33         4.0     13.0   58.846154  \n",
      "34         4.0     12.2   65.655738  \n",
      "35         5.0     13.7   53.540146  \n",
      "36         5.0     14.3   49.405594  \n",
      "37         5.0     13.9   52.122302  \n",
      "38         5.0     13.8   52.826087  \n",
      "39         5.0     14.0   51.428571  \n",
      "40         5.0     13.7   53.540146  \n",
      "41         5.0     13.4   55.746269  \n",
      "42         5.0     14.3   49.405594  \n",
      "43         5.0     12.8   60.468750  \n",
      "44         5.0     14.2   50.070423  \n"
     ]
    }
   ],
   "source": [
    "file = open('experiment_mean_no_barrier', 'rb')\n",
    "# file = open('../optimisation/result/init_data_0', 'rb')\n",
    "\n",
    "test_data = pickle.load(file)\n",
    "# print()\n",
    "\n",
    "file.close()\n",
    "print(test_data)\n"
   ]
  },
  {
   "cell_type": "code",
   "execution_count": 18,
   "metadata": {},
   "outputs": [
    {
     "data": {
      "image/png": "[encoded data removed]",
      "text/plain": [
       "<Figure size 432x288 with 1 Axes>"
      ]
     },
     "metadata": {
      "needs_background": "light"
     },
     "output_type": "display_data"
    }
   ],
   "source": [
    "r = test_data.voltage.copy()\n",
    "\n",
    "s = list(r[32:38])\n",
    "s = np.array(s)\n",
    "np.random.shuffle(s)\n",
    "\n",
    "for i in range(6):\n",
    "    r[i+32] = s[i]\n",
    "\n",
    "x_axis = np.linspace(1, 45, 45)\n",
    "plt.plot(x_axis, r,'b.-.', linewidth=0.8)\n",
    "plt.show()"
   ]
  }
 ],
 "metadata": {
  "kernelspec": {
   "display_name": "Python [conda env:BO] *",
   "language": "python",
   "name": "conda-env-BO-py"
  },
  "language_info": {
   "codemirror_mode": {
    "name": "ipython",
    "version": 3
   },
   "file_extension": ".py",
   "mimetype": "text/x-python",
   "name": "python",
   "nbconvert_exporter": "python",
   "pygments_lexer": "ipython3",
   "version": "3.7.7"
  }
 },
 "nbformat": 4,
 "nbformat_minor": 4
}
