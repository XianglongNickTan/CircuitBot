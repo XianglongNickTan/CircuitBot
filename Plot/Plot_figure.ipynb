{
 "cells": [
  {
   "cell_type": "code",
   "execution_count": 2,
   "metadata": {},
   "outputs": [],
   "source": [
    "import numpy as np \n",
    "import matplotlib.pyplot as plt\n",
    "from mpl_toolkits.mplot3d import Axes3D\n"
   ]
  },
  {
   "cell_type": "code",
   "execution_count": 16,
   "metadata": {},
   "outputs": [
    {
     "name": "stdout",
     "output_type": "stream",
     "text": [
      "live plotting\n",
      "10\n"
     ]
    },
    {
     "data": {
      "image/png": "[encoded data removed]",
      "text/plain": [
       "<Figure size 432x288 with 1 Axes>"
      ]
     },
     "metadata": {
      "needs_background": "light"
     },
     "output_type": "display_data"
    }
   ],
   "source": [
    "iteration = 10\n",
    "print(\"live plotting\")\n",
    "print(iteration)\n",
    "x_axis = np.linspace(1, iteration, iteration)\n",
    "v = [6.8, 7.6, 8.0, 8.0, 8.3, 6.8, 8.4, 6.8, 7.8, 7.8]\n",
    "r_f = []\n",
    "for i in range(len(v)):\n",
    "    r = 100/v[i]*(15-v[i])\n",
    "    r_f.append(r)\n",
    "\n",
    "plt.scatter(x_axis, v, s=20, c='blue', marker='.')\n",
    "plt.yticks(np.arange(0, 12, step=2))\n",
    "plt.\n",
    "\n",
    "# plt.subplot(2)\n",
    "# plt.scatter(x_axis, r_f, s=20, c='red', marker='.')\n",
    "# plt.yticks(np.arange(0, 12, step=2))\n",
    "\n",
    "plt.suptitle(\"Experiment 1 - Optimise Voltage\")\n",
    "plt.show()"
   ]
  },
  {
   "cell_type": "code",
   "execution_count": 18,
   "metadata": {},
   "outputs": [
    {
     "data": {
      "image/png": "[encoded data removed]",
      "text/plain": [
       "<Figure size 432x288 with 1 Axes>"
      ]
     },
     "metadata": {
      "needs_background": "light"
     },
     "output_type": "display_data"
    }
   ],
   "source": [
    "plt.scatter(x_axis, r_f, s=20, c='red', marker='.')\n",
    "# plt.yticks(np.arange(0, 12, step=2))\n",
    "\n",
    "plt.suptitle(\"Experiment 1 - Optimise Voltage\")\n",
    "plt.show()"
   ]
  }
 ],
 "metadata": {
  "kernelspec": {
   "display_name": "Python [conda env:BO] *",
   "language": "python",
   "name": "conda-env-BO-py"
  },
  "language_info": {
   "codemirror_mode": {
    "name": "ipython",
    "version": 3
   },
   "file_extension": ".py",
   "mimetype": "text/x-python",
   "name": "python",
   "nbconvert_exporter": "python",
   "pygments_lexer": "ipython3",
   "version": "3.7.7"
  }
 },
 "nbformat": 4,
 "nbformat_minor": 2
}
