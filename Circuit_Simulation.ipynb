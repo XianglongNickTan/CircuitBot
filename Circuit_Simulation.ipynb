{
 "cells": [
  {
   "cell_type": "markdown",
   "metadata": {},
   "source": [
    "# Circuit Simulation"
   ]
  },
  {
   "cell_type": "markdown",
   "metadata": {},
   "source": [
    "### Import Libraries"
   ]
  },
  {
   "cell_type": "code",
   "execution_count": 1,
   "metadata": {},
   "outputs": [],
   "source": [
    "import math\n",
    "import numpy as np"
   ]
  },
  {
   "cell_type": "code",
   "execution_count": 2,
   "metadata": {},
   "outputs": [],
   "source": [
    "from ahkab import new_ac, run\n",
    "from ahkab.circuit import Circuit\n",
    "from ahkab.plotting import plot_results # calls matplotlib for you\n",
    "import matplotlib.pyplot as plt"
   ]
  },
  {
   "cell_type": "markdown",
   "metadata": {},
   "source": [
    "## Part 1: Pattern Calculation"
   ]
  },
  {
   "cell_type": "code",
   "execution_count": 3,
   "metadata": {},
   "outputs": [],
   "source": [
    "def distance(p1, p2):\n",
    "    return math.sqrt((p1[0] - p2[0])**2 + (p1[1] - p2[1])**2)"
   ]
  },
  {
   "cell_type": "code",
   "execution_count": 31,
   "metadata": {},
   "outputs": [],
   "source": [
    "class Ink_circle:\n",
    "    def __init__(self, center, radius):\n",
    "        self.center = center\n",
    "        self.radius = radius\n",
    "        self.perim = 2 * math.pi * self.radius #周长\n",
    "\n",
    "    def formula(self, point):\n",
    "        # The formula of the circle\n",
    "        return (point[0] - self.center[0])**2 + (point[1] - self.center[1])**2 - self.radius**2\n",
    "    \n",
    "    def insec_circle(self, circle):\n",
    "        # Calculate the points of intersection between 'circle' and itself\n",
    "        d = distance(self.center, circle.center)\n",
    "        if d > self.radius + circle.radius or d < abs(self.radius - circle.radius):\n",
    "            return \"No Intersection\"\n",
    "        elif d == 0 and self.radius == circle.radius:\n",
    "            return \"Same Circle\"\n",
    "        else:\n",
    "            A = (self.radius**2 - circle.radius**2 + d**2) / (2 * d)\n",
    "            h = math.sqrt(self.radius**2 - A**2)\n",
    "            x2 = self.center[0] + A * (circle.center[0] - self.center[0]) / d\n",
    "            y2 = self.center[1] + A * (circle.center[1] - self.center[1]) / d\n",
    "            x3 = x2 - h * (circle.center[1] - self.center[1]) / d\n",
    "            y3 = y2 + h * (circle.center[0] - self.center[0]) / d\n",
    "            x4 = x2 + h * (circle.center[1] - self.center[1]) / d\n",
    "            y4 = y2 - h * (circle.center[0] - self.center[0]) / d\n",
    "            \n",
    "            p1 = (x3, y3)\n",
    "            p2 = (x4, y4)\n",
    "            return p1, p2\n",
    "\n",
    "    def insec_line(self):\n",
    "        # Calculate points of intersection between y = 0 and itself\n",
    "        if self.radius <= abs(self.center[1]):\n",
    "            return \"No Intersection\"\n",
    "        else:\n",
    "            h = abs(self.center[1])\n",
    "            x1 = self.center[0] - math.sqrt((self.radius**2 - h**2))\n",
    "            x2 = self.center[0] + math.sqrt((self.radius**2 - h**2))\n",
    "            return (x1, 0), (x2, 0)\n",
    "    \n",
    "    def len_of_arc(self, p1, p2):\n",
    "        # Calculate the length of arc between two points p1, p2 on the circle\n",
    "        # It will return the length of the shorter arc.\n",
    "        # To get the longer arc, use 'self.perim - self.len_of_arc(p1, p2)'\n",
    "        if abs(self.formula(p1)) > 0.1 or abs(self.formula(p2)) > 0.1:\n",
    "            return \"Points are not on the circle\"\n",
    "        else:\n",
    "            d = distance(p1, p2)\n",
    "            angle = math.asin(d / (2 * self.radius))\n",
    "            return 2 * angle * self.radius\n",
    "        \n",
    "    def draw(self):\n",
    "        # To draw the circle\n",
    "        angles_circle = [i * math.pi/180 for i in range(0,360)]\n",
    "        x = [math.cos(i) * self.radius + self.center[0] for i in angles_circle]\n",
    "        y = [math.sin(i) * self.radius + self.center[1] for i in angles_circle]\n",
    "        return x, y"
   ]
  },
  {
   "cell_type": "code",
   "execution_count": 38,
   "metadata": {},
   "outputs": [
    {
     "name": "stdout",
     "output_type": "stream",
     "text": [
      "((13.587782018658833, -14.675564037317667), (-3.5877820186588334, 19.675564037317667))\n"
     ]
    },
    {
     "data": {
      "image/png": "[encoded data removed]",
      "text/plain": [
       "<matplotlib.figure.Figure at 0x7ff6534759b0>"
      ]
     },
     "metadata": {},
     "output_type": "display_data"
    }
   ],
   "source": [
    "plt.figure()\n",
    "plt.grid()\n",
    "plt.xticks(np.arange(-50, 60, 10))\n",
    "plt.yticks(np.arange(-50, 60, 10))\n",
    "\n",
    "plt.plot((-50, 50), (0, 0))\n",
    "cir1 = Ink_circle((0, 0), 20)\n",
    "x1, y1 = cir1.draw()\n",
    "plt.plot(x1, y1, 'r')\n",
    "\n",
    "cir2 = Ink_circle((10, 5), 20)\n",
    "print(cir2.insec_circle(cir1))\n",
    "x2, y2 = cir2.draw()\n",
    "plt.plot(x2, y2, 'r')\n",
    "plt.axis('equal')\n",
    "plt.show()"
   ]
  },
  {
   "cell_type": "markdown",
   "metadata": {},
   "source": [
    "## Part 2: Circuit Simulation"
   ]
  },
  {
   "cell_type": "code",
   "execution_count": 23,
   "metadata": {},
   "outputs": [],
   "source": [
    "class Ink_Circuit:\n",
    "    def __init__(self):\n",
    "        self.cir = Circuit(\"CircuitBot\")\n",
    "        self.cir.add_vsource(\"V\", \"n1\", self.cir.gnd, dc_value = 0, ac_value = 1)\n",
    "        self.ink_circles = []    # Save all circles\n",
    "        self.rho = 1   # The resistivity. Use 'self.rho * [length]' to calculate the value of resistance\n",
    "        \n",
    "        \n",
    "    def add_circle(self, center, radius):\n",
    "        new_circle = Circle(center, radius)\n",
    "        \n",
    "#         p1, p2 = new_circle.insec_line()\n",
    "#         r1 = new_circle.len_of_arc(p1, p2)\n",
    "#         r2 = new_circle.perim - r1\n",
    "#         self.cir.add_resistor(\"R1\", )\n",
    "        \n",
    "# #         if len(self.ink_circles) > 0:\n",
    "# #             for c in self.ink_circles:\n",
    "# #                 p3, p4 = new_circle.insec_circle(c)\n",
    "\n",
    "\n",
    "    def get_value(self):\n",
    "        "
   ]
  },
  {
   "cell_type": "code",
   "execution_count": 22,
   "metadata": {},
   "outputs": [],
   "source": []
  },
  {
   "cell_type": "code",
   "execution_count": null,
   "metadata": {},
   "outputs": [],
   "source": []
  }
 ],
 "metadata": {
  "kernelspec": {
   "display_name": "Python 3",
   "language": "python",
   "name": "python3"
  },
  "language_info": {
   "codemirror_mode": {
    "name": "ipython",
    "version": 3
   },
   "file_extension": ".py",
   "mimetype": "text/x-python",
   "name": "python",
   "nbconvert_exporter": "python",
   "pygments_lexer": "ipython3",
   "version": "3.6.6"
  }
 },
 "nbformat": 4,
 "nbformat_minor": 2
}
