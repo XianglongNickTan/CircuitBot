{
 "cells": [
  {
   "cell_type": "code",
   "execution_count": 28,
   "metadata": {},
   "outputs": [],
   "source": [
    "from bayes_opt import BayesianOptimization\n",
    "from bayes_opt import UtilityFunction\n",
    "import matplotlib.pyplot as plt"
   ]
  },
  {
   "cell_type": "code",
   "execution_count": 29,
   "metadata": {},
   "outputs": [],
   "source": [
    "def black_box_function(p):\n",
    "    return p['x1'] - p['y1']**2 - p['x2']**2 + p['y2'] + p['x3']**2 - p['y3']"
   ]
  },
  {
   "cell_type": "code",
   "execution_count": 63,
   "metadata": {},
   "outputs": [],
   "source": [
    "optimizer = BayesianOptimization(\n",
    "    f = None,\n",
    "    pbounds = {'x1': (-0.15, 0.05), 'y1': (-0.15, 0.05),\\\n",
    "               'x2': (-0.15, 0.05), 'y2': (-0.15, 0.05),\\\n",
    "               'x3': (-0.15, 0.05), 'y3': (-0.15, 0.05)},\n",
    "    verbose = 2,\n",
    "    random_state = 1\n",
    ")"
   ]
  },
  {
   "cell_type": "code",
   "execution_count": 64,
   "metadata": {},
   "outputs": [],
   "source": [
    "ver = [0, 1, 2]\n",
    "func = ['ucb', 'ei', 'poi']\n",
    "kap = [2,4,6,8]\n",
    "xii = [0.0, 0.2, 0.4, 0.6, 0.8, 1.0]"
   ]
  },
  {
   "cell_type": "code",
   "execution_count": 77,
   "metadata": {},
   "outputs": [],
   "source": [
    "def choose_param(func='ucb', kap='2', xii='0.0'):\n",
    "    print([func, kap])\n",
    "    utility = UtilityFunction(kind = func, kappa = kap, xi = xii)\n",
    "    answer = 0.2725\n",
    "    result = float(\"infinity\")\n",
    "    record = []\n",
    "    while abs(result - answer) > 0.03:\n",
    "        next_to_probe = optimizer.suggest(utility)\n",
    "        result = black_box_function(next_to_probe)\n",
    "        optimizer.register(params = next_to_probe, target = result)\n",
    "        record.append(result)\n",
    "    return record"
   ]
  },
  {
   "cell_type": "code",
   "execution_count": 78,
   "metadata": {},
   "outputs": [
    {
     "name": "stdout",
     "output_type": "stream",
     "text": [
      "['ucb', 2]\n",
      "['ucb', 4]\n",
      "['ucb', 6]\n",
      "['ucb', 8]\n"
     ]
    },
    {
     "data": {
      "image/png": "[encoded data removed]",
      "text/plain": [
       "<matplotlib.figure.Figure at 0x7fc075ac42b0>"
      ]
     },
     "metadata": {},
     "output_type": "display_data"
    }
   ],
   "source": [
    "tmp = []\n",
    "for k in kap:\n",
    "    record = choose_param(kap = k)\n",
    "    tmp.append(len(record))\n",
    "plt.plot(kap, tmp, 'o-', label = f)\n",
    "plt.legend(loc = \"best\")\n",
    "plt.show()"
   ]
  },
  {
   "cell_type": "code",
   "execution_count": null,
   "metadata": {},
   "outputs": [],
   "source": []
  },
  {
   "cell_type": "code",
   "execution_count": null,
   "metadata": {},
   "outputs": [],
   "source": []
  }
 ],
 "metadata": {
  "kernelspec": {
   "display_name": "Python 3",
   "language": "python",
   "name": "python3"
  },
  "language_info": {
   "codemirror_mode": {
    "name": "ipython",
    "version": 3
   },
   "file_extension": ".py",
   "mimetype": "text/x-python",
   "name": "python",
   "nbconvert_exporter": "python",
   "pygments_lexer": "ipython3",
   "version": "3.6.6"
  }
 },
 "nbformat": 4,
 "nbformat_minor": 2
}
